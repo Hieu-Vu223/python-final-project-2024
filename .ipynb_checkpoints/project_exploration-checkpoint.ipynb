{
 "cells": [
  {
   "cell_type": "code",
   "execution_count": null,
   "id": "a9d27459-6a5d-4b75-a8f2-375330eca222",
   "metadata": {},
   "outputs": [],
   "source": [
    "# Cell 1: Data Fetching\n",
    "# This cell will fetch data from X\n",
    "# (Add your code or pseudocode here)\n",
    "# Cell 2: Data Processing\n",
    "# This cell will process the data we got from X\n",
    "# (Add your code or pseudocode here)"
   ]
  }
 ],
 "metadata": {
  "kernelspec": {
   "display_name": "Python 3 (ipykernel)",
   "language": "python",
   "name": "python3"
  },
  "language_info": {
   "codemirror_mode": {
    "name": "ipython",
    "version": 3
   },
   "file_extension": ".py",
   "mimetype": "text/x-python",
   "name": "python",
   "nbconvert_exporter": "python",
   "pygments_lexer": "ipython3",
   "version": "3.12.4"
  }
 },
 "nbformat": 4,
 "nbformat_minor": 5
}
